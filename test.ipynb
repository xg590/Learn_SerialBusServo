{
 "cells": [
  {
   "cell_type": "code",
   "execution_count": 1,
   "id": "6ef12f0e",
   "metadata": {},
   "outputs": [],
   "source": [
    "import time\n",
    "from STservo import ST3215\n",
    "servo = ST3215(port='COM11')"
   ]
  },
  {
   "cell_type": "code",
   "execution_count": null,
   "id": "a649d7d0",
   "metadata": {},
   "outputs": [],
   "source": [
    "posi = 0x0FFF\n",
    "servo.move2Posi(dev_id=4, posi=posi, velo=1800, acc=100)\n",
    "servo.move2Posi(dev_id=3, posi=posi, velo=1800, acc=100)\n",
    "time.sleep(1)\n",
    "print('posi', servo.readPosi(dev_id=[3, 4], debug=True))\n",
    "time.sleep(6)\n",
    "print('posi', servo.readPosi(dev_id=[3, 4], debug=True))\n",
    "time.sleep(3)\n",
    "servo.move2Posi(dev_id=[3, 4], posi=[0, 0], velo=1800, acc=100)"
   ]
  },
  {
   "cell_type": "code",
   "execution_count": 7,
   "id": "4ecaadaa",
   "metadata": {},
   "outputs": [
    {
     "name": "stdout",
     "output_type": "stream",
     "text": [
      "posi {3: {'posi': 1702, 'velo': 0, 'load': 0}, 4: {'posi': 1703, 'velo': 0, 'load': 0}}\n"
     ]
    }
   ],
   "source": [
    "print('posi', servo.readPosi(dev_id=[3, 4], debug=True))"
   ]
  },
  {
   "cell_type": "code",
   "execution_count": 12,
   "id": "99351a5b",
   "metadata": {},
   "outputs": [],
   "source": [
    "servo.__set_posi_corr__(dev_id=4, step=-2000)"
   ]
  },
  {
   "cell_type": "code",
   "execution_count": 6,
   "id": "cc93b10d",
   "metadata": {},
   "outputs": [
    {
     "data": {
      "text/plain": [
       "(0, -1200)"
      ]
     },
     "execution_count": 6,
     "metadata": {},
     "output_type": "execute_result"
    }
   ],
   "source": [
    "servo.__get_posi_corr__(dev_id=4)"
   ]
  },
  {
   "cell_type": "code",
   "execution_count": null,
   "id": "834becfe",
   "metadata": {},
   "outputs": [],
   "source": [
    "status, posi_corr = servo.__get_posi_corr__(dev_id=4)\n",
    "posi_corr"
   ]
  },
  {
   "cell_type": "code",
   "execution_count": null,
   "id": "901e48a1",
   "metadata": {},
   "outputs": [],
   "source": [
    "servo.__set_torque_mode__(dev_id=3, mode='free')"
   ]
  },
  {
   "cell_type": "code",
   "execution_count": null,
   "id": "b0f8278c",
   "metadata": {},
   "outputs": [],
   "source": [
    "while True:\n",
    "    posi = servo.readPosi(dev_id=[3], debug=True)[3]['posi']\n",
    "    servo.move2Posi(dev_id=[4], posi=[posi], velo=1800, acc=100)\n",
    "    time.sleep(0.1)"
   ]
  }
 ],
 "metadata": {
  "kernelspec": {
   "display_name": "cursor",
   "language": "python",
   "name": "python3"
  },
  "language_info": {
   "codemirror_mode": {
    "name": "ipython",
    "version": 3
   },
   "file_extension": ".py",
   "mimetype": "text/x-python",
   "name": "python",
   "nbconvert_exporter": "python",
   "pygments_lexer": "ipython3",
   "version": "3.13.5"
  }
 },
 "nbformat": 4,
 "nbformat_minor": 5
}
