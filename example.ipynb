{
 "cells": [
  {
   "cell_type": "code",
   "execution_count": null,
   "id": "299620bb-f11c-4040-be97-8b6d4ea95f0a",
   "metadata": {},
   "outputs": [],
   "source": [
    "import time \n",
    "from pyServo import serialBusServo\n",
    "servo = serialBusServo()\n",
    "servo.packetHandler.scs_end = 0 # {'SC09': 1, 'ST3215': 0}"
   ]
  },
  {
   "cell_type": "code",
   "execution_count": null,
   "id": "a26f026f-dfce-43ff-96ef-a24d7f7058d6",
   "metadata": {},
   "outputs": [],
   "source": [
    "addr = 1\n",
    "step = 0\n",
    "servo.packetHandler.scs_end = 1 # {'SC09': 1, 'ST3215': 0}\n",
    "servo.move2Pos(addr, step)\n",
    "time.sleep(1)\n",
    "servo.packetHandler.ReadPosSpeed(addr)"
   ]
  },
  {
   "cell_type": "code",
   "execution_count": null,
   "id": "2294d06e-ae58-49bf-be60-b6dd2920cff4",
   "metadata": {},
   "outputs": [],
   "source": [
    "addr = 2\n",
    "servo.packetHandler.scs_end = 0 # {'SC09': 1, 'ST3215': 0}\n",
    "servo.move2Pos(addr, step)\n",
    "time.sleep(1)\n",
    "servo.packetHandler.ReadPosSpeed(addr)"
   ]
  },
  {
   "cell_type": "code",
   "execution_count": null,
   "id": "99f64ac0-ad9f-4fe0-8b5b-54210c7a2422",
   "metadata": {},
   "outputs": [],
   "source": [
    "{\n",
    "    1: {'pos_cor':  560, 'range_min': 1000, 'range_max': 2100}, \n",
    "    2: {'pos_cor':    0, 'range_min': 1000, 'range_max': 3100}, \n",
    "    3: {'pos_cor':  700, 'range_min': 1000, 'range_max': 3000}, \n",
    "    4: {'pos_cor': 1000, 'range_min': 1000, 'range_max': 3000}, \n",
    "    5: {'pos_cor': 2000, 'range_min': 1000, 'range_max': 3100}, \n",
    "    6: {'pos_cor': 1300, 'range_min': 1000, 'range_max': 3400}, \n",
    "}"
   ]
  },
  {
   "cell_type": "code",
   "execution_count": null,
   "id": "708167ea-d3eb-4bb7-85a9-765843ab49ea",
   "metadata": {},
   "outputs": [],
   "source": [
    "addr = 1"
   ]
  },
  {
   "cell_type": "code",
   "execution_count": null,
   "id": "c0f6f930-97fd-4071-82f7-7ed623ef072c",
   "metadata": {},
   "outputs": [],
   "source": [
    "servo.__set_torque_mode__(addr, 'free')"
   ]
  },
  {
   "cell_type": "code",
   "execution_count": null,
   "id": "91a37f79-0daf-41fc-ac45-7e4acbec3c6a",
   "metadata": {},
   "outputs": [],
   "source": [
    "servo.__change_addr__(1, 2)"
   ]
  },
  {
   "cell_type": "code",
   "execution_count": null,
   "id": "dd127fa8-b4f6-4797-a022-f2cf5270a709",
   "metadata": {},
   "outputs": [],
   "source": [
    "servo.__get_posi_corr__(2)"
   ]
  },
  {
   "cell_type": "code",
   "execution_count": null,
   "id": "896e0a4d-42ec-4164-bb0b-8ffc2769b761",
   "metadata": {},
   "outputs": [],
   "source": [
    "servo.__get_posi_corr__(addr=addr), servo.packetHandler.ReadPosSpeed(addr)"
   ]
  },
  {
   "cell_type": "code",
   "execution_count": null,
   "id": "b2f6f160-b046-4b0d-917a-bbe1ba3ae35a",
   "metadata": {},
   "outputs": [],
   "source": [
    "servo.__set_posi_corr__(addr=addr, step=1300)\n",
    "servo.__get_posi_corr__(addr=addr)"
   ]
  },
  {
   "cell_type": "code",
   "execution_count": null,
   "id": "0e4fcad9-8e88-4117-bf2a-c3da673f906b",
   "metadata": {},
   "outputs": [],
   "source": [
    "servo.__set_torque_mode__(1, 'torque')"
   ]
  },
  {
   "cell_type": "code",
   "execution_count": null,
   "id": "4974793f-b8a9-43ab-91c8-d8be55311bf3",
   "metadata": {},
   "outputs": [],
   "source": [
    "addr = 2\n",
    "speed = 1000\n",
    "acc = 100\n",
    "comm_result, error = servo.set_mode(addr, mode='wheel') \n",
    "comm_result, error = servo.packetHandler.WriteSpec(addr, speed, acc)"
   ]
  },
  {
   "cell_type": "code",
   "execution_count": null,
   "id": "a62c0c42-ec5e-4b14-961c-bd56566e13b4",
   "metadata": {},
   "outputs": [],
   "source": [
    "servo.set_mode(addr, mode='posi') "
   ]
  },
  {
   "cell_type": "code",
   "execution_count": null,
   "id": "85658729-2a84-411c-962f-842aa9265462",
   "metadata": {},
   "outputs": [],
   "source": [
    "servo.get_mode(addr) "
   ]
  },
  {
   "cell_type": "code",
   "execution_count": null,
   "id": "04f33006-97ee-4282-8b9d-adff6d492a3f",
   "metadata": {},
   "outputs": [],
   "source": [
    "servo.__close__()"
   ]
  },
  {
   "cell_type": "code",
   "execution_count": null,
   "id": "08d53da2-4856-4671-a497-8da7f2dae3c6",
   "metadata": {},
   "outputs": [],
   "source": [
    "\n",
    "\n",
    "groupSyncRead = GroupSyncRead(packetHandler, STS_PRESENT_POSITION_L, 11)\n",
    "\n",
    "while 1:\n",
    "    print(\"Press any key to continue! (or press ESC to quit!)\")\n",
    "    if getch() == chr(0x1b):\n",
    "        break\n",
    "\n",
    "    for id in range(1, 11):\n",
    "        # Add SCServo#1~10 goal position\\moving speed\\moving accc value to the Syncwrite parameter storage\n",
    "        addparam_result = packetHandler.SyncWritePosEx(id, goal_position[index], STS_MOVING_SPEED, STS_MOVING_ACC)\n",
    "        if addparam_result != True:\n",
    "            print(\"[ID:%03d] groupSyncWrite addparam failed\" % id)\n",
    "\n",
    "    # Syncwrite goal position\n",
    "    comm_result = packetHandler.groupSyncWrite.txPacket()\n",
    "    if comm_result != COMM_SUCCESS:\n",
    "        print(\"%s\" % packetHandler.getTxRxResult(comm_result))\n",
    "\n",
    "    # Clear syncwrite parameter storage\n",
    "    packetHandler.groupSyncWrite.clearParam()\n",
    "    time.sleep(0.002) #wait for servo status moving=1\n",
    "    while 1:\n",
    "        # Add parameter storage for STServo#1~10 present position value\n",
    "        for id in range(1, 11):\n",
    "            addparam_result = groupSyncRead.addParam(scs_id)\n",
    "            if addparam_result != True:\n",
    "                print(\"[ID:%03d] groupSyncRead addparam failed\" % id)\n",
    "\n",
    "        comm_result = groupSyncRead.txRxPacket()\n",
    "        if comm_result != COMM_SUCCESS:\n",
    "            print(\"%s\" % packetHandler.getTxRxResult(comm_result))\n",
    "\n",
    "        last_moving = 0;\n",
    "        for id in range(1, 11):\n",
    "            # Check if groupsyncread data of STServo#1~10 is available\n",
    "            data_result, error = groupSyncRead.isAvailable(id, STS_PRESENT_POSITION_L, 11)\n",
    "            if data_result == True:\n",
    "                # Get STServo#scs_id present position moving value\n",
    "                present_position = groupSyncRead.getData(id, STS_PRESENT_POSITION_L, 2)\n",
    "                present_speed = groupSyncRead.getData(id, STS_PRESENT_SPEED_L, 2)\n",
    "                present_moving = groupSyncRead.getData(id, STS_MOVING, 1)\n",
    "                # print(scs_present_moving)\n",
    "                print(\"[ID:%03d] PresPos:%d PresSpd:%d\" % (id, present_position, packetHandler.tohost(present_speed, 15)))\n",
    "                if present_moving==1:\n",
    "                    last_moving = 1;\n",
    "            else:\n",
    "                print(\"[ID:%03d] groupSyncRead getdata failed\" % id)\n",
    "                continue\n",
    "            if error:\n",
    "                print(packetHandler.getRxPacketError(error))\n",
    "        print(\"---\")\n",
    "\n",
    "        # Clear syncread parameter storage\n",
    "        groupSyncRead.clearParam()\n",
    "        if last_moving==0:\n",
    "            break\n",
    "    # Change goal position\n",
    "    if index == 0:\n",
    "        index = 1\n",
    "    else:\n",
    "        index = 0\n",
    "\n",
    "# Close port\n",
    "portHandler.closePort()\n"
   ]
  }
 ],
 "metadata": {
  "kernelspec": {
   "display_name": "Python 3 (ipykernel)",
   "language": "python",
   "name": "python3"
  },
  "language_info": {
   "codemirror_mode": {
    "name": "ipython",
    "version": 3
   },
   "file_extension": ".py",
   "mimetype": "text/x-python",
   "name": "python",
   "nbconvert_exporter": "python",
   "pygments_lexer": "ipython3",
   "version": "3.10.12"
  }
 },
 "nbformat": 4,
 "nbformat_minor": 5
}
